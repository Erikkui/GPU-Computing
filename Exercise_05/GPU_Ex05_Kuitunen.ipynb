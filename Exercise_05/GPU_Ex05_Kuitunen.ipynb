{
 "cells": [
  {
   "cell_type": "markdown",
   "metadata": {},
   "source": [
    "# BM40A1401 GPU Computing\n",
    "\n",
    "## Erik Kuitunen\n",
    "\n",
    "### Exercise 5"
   ]
  },
  {
   "cell_type": "markdown",
   "metadata": {},
   "source": [
    "#### Task 1\n",
    "Tensors are a generalisation of multidimensional arrays and the data structure in PyTorch. Experiment with PyTorch tensors as follows:\n",
    "\n",
    "1. Create a 2D tensor of size 5x3 where the elements are pulled from the normal probability distribution with zero mean and unit variance.\n",
    "2. Present the memory contents and the metadata (size, offset, stride) of the tensor.\n",
    "3. Transpose the tensor without copying in memory.\n",
    "4. Present the memory contents and the metadata (size, offset, stride) of the tensor.\n",
    "5. Test whether the tensor and its transpose are contiguous in memory."
   ]
  },
  {
   "cell_type": "code",
   "execution_count": 32,
   "metadata": {},
   "outputs": [
    {
     "name": "stdout",
     "output_type": "stream",
     "text": [
      "Tensor T:  \n",
      " tensor([[ 1.1108, -0.2601,  0.1259],\n",
      "        [ 2.5268,  0.2523, -0.9679],\n",
      "        [-1.5786, -0.3449,  0.0876],\n",
      "        [ 1.4594,  0.2685,  0.0117],\n",
      "        [ 0.4124,  0.1402,  0.3053]]) \n",
      "\n",
      "Memory contents of T:  \n",
      "  1.1108088493347168\n",
      " -0.2600809633731842\n",
      " 0.1258944720029831\n",
      " 2.5268309116363525\n",
      " 0.2523079514503479\n",
      " -0.9679192900657654\n",
      " -1.5786471366882324\n",
      " -0.3449295461177826\n",
      " 0.08755797147750854\n",
      " 1.459376335144043\n",
      " 0.2684679925441742\n",
      " 0.011681470088660717\n",
      " 0.41241466999053955\n",
      " 0.14020822942256927\n",
      " 0.3053330183029175\n",
      "[torch.storage.TypedStorage(dtype=torch.float32, device=cpu) of size 15] \n",
      "\n",
      "Metadata of T:  \n",
      " Size:  torch.Size([5, 3]) ; offset:  0 ; stride:  (3, 1) \n",
      "\n",
      "Transpose of T:  \n",
      " tensor([[ 1.1108,  2.5268, -1.5786,  1.4594,  0.4124],\n",
      "        [-0.2601,  0.2523, -0.3449,  0.2685,  0.1402],\n",
      "        [ 0.1259, -0.9679,  0.0876,  0.0117,  0.3053]])\n",
      "Memory contents of T_t:  \n",
      "  1.1108088493347168\n",
      " -0.2600809633731842\n",
      " 0.1258944720029831\n",
      " 2.5268309116363525\n",
      " 0.2523079514503479\n",
      " -0.9679192900657654\n",
      " -1.5786471366882324\n",
      " -0.3449295461177826\n",
      " 0.08755797147750854\n",
      " 1.459376335144043\n",
      " 0.2684679925441742\n",
      " 0.011681470088660717\n",
      " 0.41241466999053955\n",
      " 0.14020822942256927\n",
      " 0.3053330183029175\n",
      "[torch.storage.TypedStorage(dtype=torch.float32, device=cpu) of size 15] \n",
      "\n",
      "Metadata of T_t:  \n",
      " Size:  torch.Size([3, 5]) ; offset:  0 ; stride:  (1, 3) \n",
      "\n",
      "True False\n"
     ]
    }
   ],
   "source": [
    "import torch\n",
    "\n",
    "# Part 1\n",
    "# Create tensor\n",
    "T = torch.randn( 5, 3 )\n",
    "print( \"Tensor T: \", \"\\n\", T, \"\\n\" )\n",
    "\n",
    "# Part 2\n",
    "# Memory contents and metadata\n",
    "print( \"Memory contents of T: \", \"\\n\", T.storage(), \"\\n\" )\n",
    "print( \"Metadata of T: \", \"\\n\", \"Size: \", T.size(), \"; offset: \", T.storage_offset(), \"; stride: \", T.stride(), \"\\n\" )\n",
    "\n",
    "# Part 3\n",
    "#Transpose the tensor without copying in memory\n",
    "T_t = T.transpose( 0, 1 )\n",
    "print( \"Transpose of T: \", \"\\n\", T_t)\n",
    "\n",
    "# Part 4\n",
    "# Memory contents and metadata\n",
    "print( \"Memory contents of T_t: \", \"\\n\", T_t.storage(), \"\\n\" )\n",
    "print( \"Metadata of T_t: \", \"\\n\", \"Size: \", T_t.size(), \"; offset: \", T_t.storage_offset(), \"; stride: \", T_t.stride(), \"\\n\" )\n",
    "\n",
    "# Part 5\n",
    "# Check whether tensors are contiguous\n",
    "print( T.is_contiguous(), T_t.is_contiguous() )"
   ]
  },
  {
   "cell_type": "markdown",
   "metadata": {},
   "source": [
    "#### Task 2\n",
    "Experiment with PyTorch tensors as follows:\n",
    "\n",
    "Create a tensor by loading the given data.\n",
    "Normalise the data by standardisation (zero mean, unit variance).\n",
    "Serialise (save) the tensor to a file, also in the HDF5 format."
   ]
  },
  {
   "cell_type": "code",
   "execution_count": null,
   "metadata": {},
   "outputs": [],
   "source": [
    "import torch\n",
    "import numpy"
   ]
  }
 ],
 "metadata": {
  "kernelspec": {
   "display_name": "Python 3",
   "language": "python",
   "name": "python3"
  },
  "language_info": {
   "codemirror_mode": {
    "name": "ipython",
    "version": 3
   },
   "file_extension": ".py",
   "mimetype": "text/x-python",
   "name": "python",
   "nbconvert_exporter": "python",
   "pygments_lexer": "ipython3",
   "version": "3.12.1"
  }
 },
 "nbformat": 4,
 "nbformat_minor": 2
}
