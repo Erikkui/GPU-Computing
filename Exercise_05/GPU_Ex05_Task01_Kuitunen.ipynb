{
 "cells": [
  {
   "cell_type": "markdown",
   "metadata": {},
   "source": [
    "# BM40A1401 GPU Computing\n",
    "\n",
    "## Erik Kuitunen\n",
    "\n",
    "### Exercise 5 Task 1\n",
    "\n",
    "Tensors are a generalisation of multidimensional arrays and the data structure in PyTorch. Experiment with PyTorch tensors as follows:\n",
    "\n",
    "1. Create a 2D tensor of size 5x3 where the elements are pulled from the normal probability distribution with zero mean and unit variance.\n",
    "2. Present the memory contents and the metadata (size, offset, stride) of the tensor.\n",
    "3. Transpose the tensor without copying in memory.\n",
    "4. Present the memory contents and the metadata (size, offset, stride) of the tensor.\n",
    "5. Test whether the tensor and its transpose are contiguous in memory."
   ]
  },
  {
   "cell_type": "code",
   "execution_count": 1,
   "metadata": {},
   "outputs": [],
   "source": [
    "import torch"
   ]
  },
  {
   "cell_type": "markdown",
   "metadata": {},
   "source": [
    "#### 1. Create tensor"
   ]
  },
  {
   "cell_type": "code",
   "execution_count": 2,
   "metadata": {},
   "outputs": [
    {
     "name": "stdout",
     "output_type": "stream",
     "text": [
      "Tensor T:  \n",
      " tensor([[-1.0244, -0.0138,  0.9396],\n",
      "        [-0.6177,  2.2804,  0.3236],\n",
      "        [-0.2364,  0.5572, -2.5162],\n",
      "        [-0.9990, -0.2077, -1.2236],\n",
      "        [-0.7324,  2.2556,  0.6690]]) \n",
      "\n"
     ]
    }
   ],
   "source": [
    "T = torch.randn( 5, 3 )\n",
    "print( \"Tensor T: \", \"\\n\", T, \"\\n\" )"
   ]
  },
  {
   "cell_type": "markdown",
   "metadata": {},
   "source": [
    "#### 2. Memory contents and metadata"
   ]
  },
  {
   "cell_type": "code",
   "execution_count": 3,
   "metadata": {},
   "outputs": [
    {
     "name": "stdout",
     "output_type": "stream",
     "text": [
      "Memory contents of T:  \n",
      "  -1.0243875980377197\n",
      " -0.013778441585600376\n",
      " 0.9396497011184692\n",
      " -0.6177390217781067\n",
      " 2.2804291248321533\n",
      " 0.3235791027545929\n",
      " -0.23642273247241974\n",
      " 0.5572065711021423\n",
      " -2.516180992126465\n",
      " -0.9989905953407288\n",
      " -0.20766161382198334\n",
      " -1.2235875129699707\n",
      " -0.7324222922325134\n",
      " 2.255629539489746\n",
      " 0.669014573097229\n",
      "[torch.storage.TypedStorage(dtype=torch.float32, device=cpu) of size 15] \n",
      "\n",
      "Metadata of T:  \n",
      " Size:  torch.Size([5, 3]) ; offset:  0 ; stride:  (3, 1) \n",
      "\n"
     ]
    },
    {
     "name": "stderr",
     "output_type": "stream",
     "text": [
      "C:\\Users\\erikk\\AppData\\Local\\Temp\\ipykernel_25204\\1542109320.py:1: UserWarning: TypedStorage is deprecated. It will be removed in the future and UntypedStorage will be the only storage class. This should only matter to you if you are using storages directly.  To access UntypedStorage directly, use tensor.untyped_storage() instead of tensor.storage()\n",
      "  print( \"Memory contents of T: \", \"\\n\", T.storage(), \"\\n\" )\n"
     ]
    }
   ],
   "source": [
    "print( \"Memory contents of T: \", \"\\n\", T.storage(), \"\\n\" )\n",
    "print( \"Metadata of T: \", \"\\n\", \"Size: \", T.size(), \"; offset: \", T.storage_offset(), \"; stride: \", T.stride(), \"\\n\" )"
   ]
  },
  {
   "cell_type": "markdown",
   "metadata": {},
   "source": [
    "#### 3. Transpose the tensor without copying in memory"
   ]
  },
  {
   "cell_type": "code",
   "execution_count": 4,
   "metadata": {},
   "outputs": [
    {
     "name": "stdout",
     "output_type": "stream",
     "text": [
      "Transpose of T:  \n",
      " tensor([[-1.0244, -0.6177, -0.2364, -0.9990, -0.7324],\n",
      "        [-0.0138,  2.2804,  0.5572, -0.2077,  2.2556],\n",
      "        [ 0.9396,  0.3236, -2.5162, -1.2236,  0.6690]])\n"
     ]
    }
   ],
   "source": [
    "T_t = T.transpose( 0, 1 )\n",
    "print( \"Transpose of T: \", \"\\n\", T_t)"
   ]
  },
  {
   "cell_type": "markdown",
   "metadata": {},
   "source": [
    "#### 4. Memory contents and metadata"
   ]
  },
  {
   "cell_type": "code",
   "execution_count": 5,
   "metadata": {},
   "outputs": [
    {
     "name": "stdout",
     "output_type": "stream",
     "text": [
      "Memory contents of T_t:  \n",
      "  -1.0243875980377197\n",
      " -0.013778441585600376\n",
      " 0.9396497011184692\n",
      " -0.6177390217781067\n",
      " 2.2804291248321533\n",
      " 0.3235791027545929\n",
      " -0.23642273247241974\n",
      " 0.5572065711021423\n",
      " -2.516180992126465\n",
      " -0.9989905953407288\n",
      " -0.20766161382198334\n",
      " -1.2235875129699707\n",
      " -0.7324222922325134\n",
      " 2.255629539489746\n",
      " 0.669014573097229\n",
      "[torch.storage.TypedStorage(dtype=torch.float32, device=cpu) of size 15] \n",
      "\n",
      "Metadata of T_t:  \n",
      " Size:  torch.Size([3, 5]) ; offset:  0 ; stride:  (1, 3) \n",
      "\n"
     ]
    }
   ],
   "source": [
    "print( \"Memory contents of T_t: \", \"\\n\", T_t.storage(), \"\\n\" )\n",
    "print( \"Metadata of T_t: \", \"\\n\", \"Size: \", T_t.size(), \"; offset: \", T_t.storage_offset(), \"; stride: \", T_t.stride(), \"\\n\" )"
   ]
  },
  {
   "cell_type": "markdown",
   "metadata": {},
   "source": [
    "#### 5. Check whether tensors are contiguous"
   ]
  },
  {
   "cell_type": "code",
   "execution_count": 6,
   "metadata": {},
   "outputs": [
    {
     "name": "stdout",
     "output_type": "stream",
     "text": [
      "True False\n"
     ]
    }
   ],
   "source": [
    "print( T.is_contiguous(), T_t.is_contiguous() )"
   ]
  }
 ],
 "metadata": {
  "kernelspec": {
   "display_name": "Python 3",
   "language": "python",
   "name": "python3"
  },
  "language_info": {
   "codemirror_mode": {
    "name": "ipython",
    "version": 3
   },
   "file_extension": ".py",
   "mimetype": "text/x-python",
   "name": "python",
   "nbconvert_exporter": "python",
   "pygments_lexer": "ipython3",
   "version": "3.12.1"
  }
 },
 "nbformat": 4,
 "nbformat_minor": 2
}
