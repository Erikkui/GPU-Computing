{
 "cells": [
  {
   "cell_type": "markdown",
   "metadata": {},
   "source": [
    "# BM40A1401 GPU Computing\n",
    "\n",
    "## Erik Kuitunen\n",
    "\n",
    "### Exercise 5 Task 3\n",
    "\n",
    "In linear regression, a linear model is fitted to data. One of the simplest forms of the model is\n",
    "\n",
    "$ y=wx+b $\n",
    "\n",
    "where $x$ is the input variable, $y$ is the predicted variable, and the model parameters are the weight $w$ and bias $b$.\n",
    "\n",
    "Implement an iterative learning algorithm for linear regression with PyTorch. Automatic differentiation (autograd) may be used, and the loss function and training process parameters can be selected freely. Estimate the model parameters using the given data."
   ]
  },
  {
   "cell_type": "code",
   "execution_count": null,
   "metadata": {},
   "outputs": [],
   "source": [
    "import torch"
   ]
  }
 ],
 "metadata": {
  "kernelspec": {
   "display_name": "Python 3",
   "language": "python",
   "name": "python3"
  },
  "language_info": {
   "codemirror_mode": {
    "name": "ipython",
    "version": 3
   },
   "file_extension": ".py",
   "mimetype": "text/x-python",
   "name": "python",
   "nbconvert_exporter": "python",
   "pygments_lexer": "ipython3",
   "version": "3.12.1"
  }
 },
 "nbformat": 4,
 "nbformat_minor": 2
}
