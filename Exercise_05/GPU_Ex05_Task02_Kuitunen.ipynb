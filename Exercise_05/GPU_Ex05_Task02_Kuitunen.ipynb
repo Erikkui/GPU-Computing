{
 "cells": [
  {
   "cell_type": "markdown",
   "metadata": {},
   "source": [
    "# BM40A1401 GPU Computing\n",
    "\n",
    "## Erik Kuitunen\n",
    "\n",
    "### Exercise 5 Task 2\n",
    "\n",
    "Experiment with PyTorch tensors as follows:\n",
    "\n",
    "1. Create a tensor by loading the given data.\n",
    "2. Normalise the data by standardisation (zero mean, unit variance).\n",
    "3. Serialise (save) the tensor to a file, also in the HDF5 format."
   ]
  },
  {
   "cell_type": "code",
   "execution_count": 11,
   "metadata": {},
   "outputs": [],
   "source": [
    "import torch\n",
    "import numpy as np\n",
    "import h5py"
   ]
  },
  {
   "cell_type": "markdown",
   "metadata": {},
   "source": [
    "#### 1. Create tensor by loading data"
   ]
  },
  {
   "cell_type": "code",
   "execution_count": 12,
   "metadata": {},
   "outputs": [],
   "source": [
    "data_path = \"../Exercise_05/t003a.csv\"\n",
    "\n",
    "data_np = np.loadtxt( data_path, dtype = np.float32, delimiter = \",\")\n",
    "\n",
    "data = torch.from_numpy( data_np )"
   ]
  },
  {
   "cell_type": "markdown",
   "metadata": {},
   "source": [
    "#### 2. Normalise the data by standardisation"
   ]
  },
  {
   "cell_type": "code",
   "execution_count": 13,
   "metadata": {},
   "outputs": [],
   "source": [
    "data_mean = torch.mean( data, dim = 0 )\n",
    "data_var = torch.var( data )\n",
    "\n",
    "data_normalized = ( data - data_mean ) / torch.sqrt( data_var )"
   ]
  },
  {
   "cell_type": "markdown",
   "metadata": {},
   "source": [
    "#### 3. Serialise the tensor to a file, also in the HDF5 format"
   ]
  },
  {
   "cell_type": "code",
   "execution_count": 14,
   "metadata": {},
   "outputs": [],
   "source": [
    "torch.save( data_normalized, '../Exercise_05/task2_result.t' )\n",
    "\n",
    "f = h5py.File( '../Exercise_05/task2_result.hdf5', 'w' )\n",
    "dset = f.create_dataset( 'task2result', data = data_normalized.numpy() )\n",
    "f.close()"
   ]
  }
 ],
 "metadata": {
  "kernelspec": {
   "display_name": "Python 3",
   "language": "python",
   "name": "python3"
  },
  "language_info": {
   "codemirror_mode": {
    "name": "ipython",
    "version": 3
   },
   "file_extension": ".py",
   "mimetype": "text/x-python",
   "name": "python",
   "nbconvert_exporter": "python",
   "pygments_lexer": "ipython3",
   "version": "3.12.1"
  }
 },
 "nbformat": 4,
 "nbformat_minor": 2
}
