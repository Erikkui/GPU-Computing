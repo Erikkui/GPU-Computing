{
  "cells": [
    {
      "cell_type": "markdown",
      "metadata": {
        "id": "olfmKi7dvsfV"
      },
      "source": [
        "Import the libraries we need. CuPy can be found readily installed on Google Colab."
      ]
    },
    {
      "cell_type": "code",
      "execution_count": 2,
      "metadata": {
        "id": "qwyrUJlMviIY"
      },
      "outputs": [],
      "source": [
        "import numpy as np\n",
        "import cupy as cp"
      ]
    },
    {
      "cell_type": "markdown",
      "metadata": {
        "id": "8HQEFARywCit"
      },
      "source": [
        "Data can be created with the array() function, just like in NumPy. But of course it will be GPU."
      ]
    },
    {
      "cell_type": "code",
      "execution_count": 2,
      "metadata": {
        "colab": {
          "base_uri": "https://localhost:8080/"
        },
        "id": "ORiFcJyowVF_",
        "outputId": "417490bf-22c7-4d2d-b306-7da683fd05fe"
      },
      "outputs": [
        {
          "name": "stdout",
          "output_type": "stream",
          "text": [
            "3.7416573867739413\n"
          ]
        }
      ],
      "source": [
        "x_gpu = cp.array([1,2,3])\n",
        "l2_gpu = cp.linalg.norm(x_gpu)\n",
        "print(l2_gpu)\n"
      ]
    },
    {
      "cell_type": "code",
      "execution_count": 3,
      "metadata": {
        "colab": {
          "base_uri": "https://localhost:8080/"
        },
        "id": "7CnCo8VxwzCa",
        "outputId": "e0138061-8bdf-45b5-836e-4434550df19d"
      },
      "outputs": [
        {
          "name": "stdout",
          "output_type": "stream",
          "text": [
            "3.7416573867739413\n"
          ]
        }
      ],
      "source": [
        "x_cpu = np.array([1,2,3])\n",
        "l2_cpu = np.linalg.norm(x_cpu)\n",
        "print(l2_cpu)"
      ]
    },
    {
      "cell_type": "code",
      "execution_count": 4,
      "metadata": {
        "colab": {
          "base_uri": "https://localhost:8080/"
        },
        "id": "NBFguJuYxJt5",
        "outputId": "329dacfe-79f5-4be0-af4b-ba6e3e512075"
      },
      "outputs": [
        {
          "name": "stdout",
          "output_type": "stream",
          "text": [
            "<class 'cupy.ndarray'>\n",
            "<class 'cupy.ndarray'>\n",
            "<class 'numpy.ndarray'>\n",
            "<class 'numpy.float64'>\n"
          ]
        }
      ],
      "source": [
        "print(type(x_gpu))\n",
        "print(type(l2_gpu))\n",
        "print(type(x_cpu))\n",
        "print(type(l2_cpu))"
      ]
    },
    {
      "cell_type": "markdown",
      "metadata": {
        "id": "nvY0LpXzxnKY"
      },
      "source": [
        "### Multiple GPUs?\n",
        "No problem, CuPy has you covered"
      ]
    },
    {
      "cell_type": "code",
      "execution_count": 5,
      "metadata": {
        "colab": {
          "base_uri": "https://localhost:8080/",
          "height": 331
        },
        "id": "CmCaDcsxxvqO",
        "outputId": "b22267d0-343b-462b-a604-7cbe068c07a4"
      },
      "outputs": [],
      "source": [
        "x_on_gpu0 = cp.array([1,2,3,4])\n",
        "\n",
        "#with cp.cuda.Device(1):\n",
        "#  x_on_gpu1 = cp.array([1,2,3,4,5])"
      ]
    },
    {
      "cell_type": "markdown",
      "metadata": {
        "id": "hnMmeG9myaBX"
      },
      "source": [
        "## Data transfr to the GPU\n",
        "\n",
        "cupy.asarray() can be used to numpy.ndarray, lisr or any other type that can be passed to numpy.arra() to the current device."
      ]
    },
    {
      "cell_type": "code",
      "execution_count": 3,
      "metadata": {
        "colab": {
          "base_uri": "https://localhost:8080/"
        },
        "id": "1imOMzmkyvM2",
        "outputId": "4f416fe1-ce50-4291-da27-725f54af63a9"
      },
      "outputs": [
        {
          "name": "stdout",
          "output_type": "stream",
          "text": [
            "<class 'numpy.ndarray'>\n",
            "<class 'float'>\n"
          ]
        }
      ],
      "source": [
        "x_cpu = np.array([1,2,3])\n",
        "print(type(x_cpu))\n",
        "print(type(3.14))"
      ]
    },
    {
      "cell_type": "code",
      "execution_count": 7,
      "metadata": {
        "colab": {
          "base_uri": "https://localhost:8080/"
        },
        "id": "Mq_i2kh3y050",
        "outputId": "f27bddb5-c9da-4db7-9fdb-8b21c48a9cf1"
      },
      "outputs": [
        {
          "name": "stdout",
          "output_type": "stream",
          "text": [
            "<class 'cupy.ndarray'>\n"
          ]
        }
      ],
      "source": [
        "x_gpu = cp.asarray(x_cpu)\n",
        "print(type(x_gpu))"
      ]
    },
    {
      "cell_type": "markdown",
      "metadata": {
        "id": "a7fViNi-zJCj"
      },
      "source": [
        "### Move array from device to the host\n",
        "\n",
        "For this the CuPy functions asnumpy() and get() can be used"
      ]
    },
    {
      "cell_type": "code",
      "execution_count": 8,
      "metadata": {
        "colab": {
          "base_uri": "https://localhost:8080/"
        },
        "id": "OLzP8KjJzZgv",
        "outputId": "d818a7a0-7d34-4915-9856-a6c9302845b5"
      },
      "outputs": [
        {
          "name": "stdout",
          "output_type": "stream",
          "text": [
            "[1 2 3]\n",
            "<class 'cupy.ndarray'>\n"
          ]
        }
      ],
      "source": [
        "x_gpu = cp.array([1,2,3])\n",
        "print(x_gpu)\n",
        "print(type(x_gpu))\n",
        "\n"
      ]
    },
    {
      "cell_type": "code",
      "execution_count": 9,
      "metadata": {
        "colab": {
          "base_uri": "https://localhost:8080/"
        },
        "id": "fwVhTaP4zlWp",
        "outputId": "fa1e92d6-62d7-40f4-906f-bff3a5c5cc0f"
      },
      "outputs": [
        {
          "name": "stdout",
          "output_type": "stream",
          "text": [
            "[1 2 3]\n",
            "<class 'numpy.ndarray'>\n"
          ]
        }
      ],
      "source": [
        "x_cpu = cp.asnumpy(x_gpu)\n",
        "print(x_cpu)\n",
        "print(type(x_cpu))"
      ]
    },
    {
      "cell_type": "code",
      "execution_count": 10,
      "metadata": {
        "colab": {
          "base_uri": "https://localhost:8080/"
        },
        "id": "BjfSdNB8z2gc",
        "outputId": "ac03454d-f283-42f5-d4a8-dbc97c79351d"
      },
      "outputs": [
        {
          "name": "stdout",
          "output_type": "stream",
          "text": [
            "[1 2 3]\n",
            "<class 'cupy.ndarray'>\n"
          ]
        }
      ],
      "source": [
        "x_gpu = cp.array([1,2,3])\n",
        "print(x_gpu)\n",
        "print(type(x_gpu))"
      ]
    },
    {
      "cell_type": "code",
      "execution_count": 11,
      "metadata": {
        "colab": {
          "base_uri": "https://localhost:8080/"
        },
        "id": "7dq73fUm0Djk",
        "outputId": "503d590b-99a3-4c75-e6ba-f652765285b9"
      },
      "outputs": [
        {
          "name": "stdout",
          "output_type": "stream",
          "text": [
            "[1 2 3]\n",
            "<class 'numpy.ndarray'>\n"
          ]
        }
      ],
      "source": [
        "x_cpu = x_gpu.get()\n",
        "print(x_cpu)\n",
        "print(type(x_cpu))"
      ]
    },
    {
      "cell_type": "markdown",
      "metadata": {
        "id": "DEgFGT560cCh"
      },
      "source": [
        "### Operations betwen CPU and GPU\n",
        "Rembember to have your data on the same device when you do operation between them."
      ]
    },
    {
      "cell_type": "code",
      "execution_count": 12,
      "metadata": {
        "colab": {
          "base_uri": "https://localhost:8080/"
        },
        "id": "cN7GoQ0H0s-V",
        "outputId": "ca081bdf-44fd-4eb4-d1d5-d3fb12ef0c52"
      },
      "outputs": [
        {
          "data": {
            "text/plain": [
              "array([5, 7, 9])"
            ]
          },
          "execution_count": 12,
          "metadata": {},
          "output_type": "execute_result"
        }
      ],
      "source": [
        "x_cpu = np.array([1,2,3])\n",
        "y_cpu = np.array([4,5,6])\n",
        "x_cpu + y_cpu"
      ]
    },
    {
      "cell_type": "code",
      "execution_count": 13,
      "metadata": {
        "id": "R6nyBmLO075D"
      },
      "outputs": [],
      "source": [
        "x_gpu = cp.asarray(x_cpu)\n",
        "\n",
        "# x_gpu + x_cpu"
      ]
    },
    {
      "cell_type": "code",
      "execution_count": 14,
      "metadata": {
        "colab": {
          "base_uri": "https://localhost:8080/"
        },
        "id": "gBVvAPzv1Q26",
        "outputId": "f2e9941b-cc78-4fbd-d56d-5ef4db0fea69"
      },
      "outputs": [
        {
          "data": {
            "text/plain": [
              "array([5, 7, 9])"
            ]
          },
          "execution_count": 14,
          "metadata": {},
          "output_type": "execute_result"
        }
      ],
      "source": [
        "cp.asnumpy(x_gpu) + y_cpu"
      ]
    },
    {
      "cell_type": "code",
      "execution_count": 15,
      "metadata": {
        "colab": {
          "base_uri": "https://localhost:8080/"
        },
        "id": "WYkENcbP1e75",
        "outputId": "9133ca92-3ebf-418b-b3dc-c976819ace55"
      },
      "outputs": [
        {
          "data": {
            "text/plain": [
              "array([5, 7, 9], dtype=int32)"
            ]
          },
          "execution_count": 15,
          "metadata": {},
          "output_type": "execute_result"
        }
      ],
      "source": [
        "x_gpu + cp.asarray(y_cpu)"
      ]
    },
    {
      "cell_type": "markdown",
      "metadata": {
        "id": "1XbLpE7A1rD2"
      },
      "source": [
        "### CuPy functions\n",
        "\n",
        "CuPy supports most of the functions that NumPy provides. Here just examples."
      ]
    },
    {
      "cell_type": "code",
      "execution_count": 16,
      "metadata": {
        "colab": {
          "base_uri": "https://localhost:8080/"
        },
        "id": "JA6ZZ9ot13lj",
        "outputId": "3523f262-5392-4ce7-c60e-d13f36ab1d7a"
      },
      "outputs": [
        {
          "name": "stdout",
          "output_type": "stream",
          "text": [
            "[1.0609979e-313 2.0000000e+000 3.0000000e+000 0.0000000e+000\n",
            " 0.0000000e+000 0.0000000e+000 0.0000000e+000 0.0000000e+000\n",
            " 0.0000000e+000 0.0000000e+000]\n"
          ]
        }
      ],
      "source": [
        "a = cp.empty(10)\n",
        "print(a)"
      ]
    },
    {
      "cell_type": "code",
      "execution_count": 17,
      "metadata": {
        "colab": {
          "base_uri": "https://localhost:8080/"
        },
        "id": "elejrI-_2IHx",
        "outputId": "2db3b56b-9f84-495d-ccab-3842747314d9"
      },
      "outputs": [
        {
          "name": "stdout",
          "output_type": "stream",
          "text": [
            "[1. 1. 1. 1. 1. 1. 1. 1. 1. 1.]\n"
          ]
        }
      ],
      "source": [
        "b = cp.ones_like(a)\n",
        "print(b)"
      ]
    },
    {
      "cell_type": "code",
      "execution_count": 18,
      "metadata": {
        "colab": {
          "base_uri": "https://localhost:8080/"
        },
        "id": "RkNnZrOQ2qps",
        "outputId": "d30fa571-133c-4368-bd09-ea49287b5249"
      },
      "outputs": [
        {
          "name": "stdout",
          "output_type": "stream",
          "text": [
            "[[0. 0. 0. 0.]\n",
            " [0. 0. 0. 0.]\n",
            " [0. 0. 0. 0.]\n",
            " [0. 0. 0. 0.]]\n"
          ]
        }
      ],
      "source": [
        "a = cp.zeros((4,4))\n",
        "print(a)"
      ]
    },
    {
      "cell_type": "code",
      "execution_count": 19,
      "metadata": {
        "colab": {
          "base_uri": "https://localhost:8080/"
        },
        "id": "fnPBqBGN2zDO",
        "outputId": "bddf3739-12a5-4080-cfda-290d221f38a5"
      },
      "outputs": [
        {
          "name": "stdout",
          "output_type": "stream",
          "text": [
            "[0. 0. 0. 0. 0. 0. 0. 0. 0. 0. 0. 0. 0. 0. 0. 0.]\n"
          ]
        }
      ],
      "source": [
        "c = cp.reshape(a, a.size)\n",
        "print(c)"
      ]
    },
    {
      "cell_type": "code",
      "execution_count": 20,
      "metadata": {
        "colab": {
          "base_uri": "https://localhost:8080/"
        },
        "id": "9gtBCci42_FF",
        "outputId": "4052e30d-8037-4f2d-c94f-e0f96c0dc9a3"
      },
      "outputs": [
        {
          "name": "stdout",
          "output_type": "stream",
          "text": [
            "[[1 1 2 6]\n",
            " [7 6 3 5]\n",
            " [2 5 4 3]\n",
            " [7 2 5 9]]\n"
          ]
        }
      ],
      "source": [
        "d = cp.random.randint(0,10, size=(4,4))\n",
        "print(d)"
      ]
    },
    {
      "cell_type": "code",
      "execution_count": 21,
      "metadata": {
        "colab": {
          "base_uri": "https://localhost:8080/"
        },
        "id": "blKDNxbx3OXO",
        "outputId": "2e4c5f3e-f82f-4d83-d172-2841aa6b2bc8"
      },
      "outputs": [
        {
          "name": "stdout",
          "output_type": "stream",
          "text": [
            "[1 3 3]\n"
          ]
        }
      ],
      "source": [
        "e = cp.diag(d,1)\n",
        "print(e)"
      ]
    },
    {
      "cell_type": "code",
      "execution_count": 22,
      "metadata": {
        "colab": {
          "base_uri": "https://localhost:8080/"
        },
        "id": "FHndojmP3bXH",
        "outputId": "6ce7f625-4e4f-4cd7-c896-d2e4777266b6"
      },
      "outputs": [
        {
          "data": {
            "text/plain": [
              "cupy.ndarray"
            ]
          },
          "execution_count": 22,
          "metadata": {},
          "output_type": "execute_result"
        }
      ],
      "source": [
        "type(e)"
      ]
    },
    {
      "cell_type": "markdown",
      "metadata": {
        "id": "6kc2j-wd3gaq"
      },
      "source": [
        "### Speed differences\n",
        "\n",
        "Is there any difference on speed?"
      ]
    },
    {
      "cell_type": "markdown",
      "metadata": {
        "id": "-dK-ACQw3od2"
      },
      "source": [
        "Create random vector in CPU"
      ]
    },
    {
      "cell_type": "code",
      "execution_count": 23,
      "metadata": {
        "colab": {
          "base_uri": "https://localhost:8080/"
        },
        "id": "FM5eSKdH3sQ5",
        "outputId": "3d97e99d-293e-425c-d9f1-32d0508f6d73"
      },
      "outputs": [
        {
          "name": "stdout",
          "output_type": "stream",
          "text": [
            "15.9 µs ± 519 ns per loop (mean ± std. dev. of 7 runs, 100,000 loops each)\n"
          ]
        }
      ],
      "source": [
        "%%timeit\n",
        "x_cpu = np.random.randn(1000)"
      ]
    },
    {
      "cell_type": "markdown",
      "metadata": {
        "id": "be0vdW4Z4GA3"
      },
      "source": [
        "Create random vector in GPU"
      ]
    },
    {
      "cell_type": "code",
      "execution_count": 24,
      "metadata": {
        "colab": {
          "base_uri": "https://localhost:8080/"
        },
        "id": "2AsAq_2B4FV9",
        "outputId": "6ab47f6e-aa80-460d-b931-178d14cf34ae"
      },
      "outputs": [
        {
          "name": "stdout",
          "output_type": "stream",
          "text": [
            "16.3 µs ± 344 ns per loop (mean ± std. dev. of 7 runs, 10,000 loops each)\n"
          ]
        }
      ],
      "source": [
        "%%timeit\n",
        "x_gpu = cp.random.randn(1000)"
      ]
    },
    {
      "cell_type": "markdown",
      "metadata": {
        "id": "SNHUCFJG4c2G"
      },
      "source": [
        "What about creating the array in CPU and transferring it to the GPU"
      ]
    },
    {
      "cell_type": "code",
      "execution_count": 25,
      "metadata": {
        "colab": {
          "base_uri": "https://localhost:8080/"
        },
        "id": "Zvz1du_R4jjC",
        "outputId": "a9dc1902-50e7-48c6-d1fc-b8f9fddfb112"
      },
      "outputs": [
        {
          "name": "stdout",
          "output_type": "stream",
          "text": [
            "67.8 µs ± 1.1 µs per loop (mean ± std. dev. of 7 runs, 10,000 loops each)\n"
          ]
        }
      ],
      "source": [
        "%%timeit\n",
        "x_cpu = np.random.randn(1000)\n",
        "x_gpu = cp.asarray(x_cpu)"
      ]
    },
    {
      "cell_type": "markdown",
      "metadata": {
        "id": "hBYyGCUT5BJi"
      },
      "source": [
        "How long does the copying actually take."
      ]
    },
    {
      "cell_type": "code",
      "execution_count": 26,
      "metadata": {
        "colab": {
          "base_uri": "https://localhost:8080/"
        },
        "id": "jeifVaoX5GX4",
        "outputId": "7cf31101-658e-49a2-b696-6807ad448f89"
      },
      "outputs": [
        {
          "name": "stdout",
          "output_type": "stream",
          "text": [
            "47.9 µs ± 1.84 µs per loop (mean ± std. dev. of 7 runs, 10,000 loops each)\n"
          ]
        }
      ],
      "source": [
        "%%timeit\n",
        "x_gpu = cp.asarray(x_cpu)"
      ]
    },
    {
      "cell_type": "markdown",
      "metadata": {
        "id": "6N39Zb-15cQW"
      },
      "source": [
        "One has to also consider that copying data back from the GPU takes some time."
      ]
    },
    {
      "cell_type": "code",
      "execution_count": 27,
      "metadata": {
        "colab": {
          "base_uri": "https://localhost:8080/"
        },
        "id": "mn4zp-SO5aYR",
        "outputId": "fb152a7c-e9f6-4ffd-870a-a4f567fecc4e"
      },
      "outputs": [
        {
          "name": "stdout",
          "output_type": "stream",
          "text": [
            "20.2 µs ± 2.08 µs per loop (mean ± std. dev. of 7 runs, 100,000 loops each)\n"
          ]
        }
      ],
      "source": [
        "%%timeit\n",
        "x_cpu = cp.asnumpy(x_gpu)"
      ]
    },
    {
      "cell_type": "markdown",
      "metadata": {
        "id": "DbKyZgv850lJ"
      },
      "source": [
        "So good to do as much as you can on the GPU and then only copy back the final result.\n",
        "\n",
        "Try to avoid copying the data back and forth between the CPU and the GPU."
      ]
    }
  ],
  "metadata": {
    "accelerator": "GPU",
    "colab": {
      "gpuType": "T4",
      "provenance": []
    },
    "kernelspec": {
      "display_name": "Python 3",
      "name": "python3"
    },
    "language_info": {
      "codemirror_mode": {
        "name": "ipython",
        "version": 3
      },
      "file_extension": ".py",
      "mimetype": "text/x-python",
      "name": "python",
      "nbconvert_exporter": "python",
      "pygments_lexer": "ipython3",
      "version": "3.12.1"
    }
  },
  "nbformat": 4,
  "nbformat_minor": 0
}
