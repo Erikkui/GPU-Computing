{
 "cells": [
  {
   "cell_type": "markdown",
   "metadata": {},
   "source": [
    "# BM40A1401 GPU Computing\n",
    "\n",
    "## Erik Kuitunen\n",
    "\n",
    "### Exercise 5 Task 1\n",
    "\n",
    "Tensors are a generalisation of multidimensional arrays and the data structure in PyTorch. Experiment with PyTorch tensors as follows:\n",
    "\n",
    "1. Create a 2D tensor of size 5x3 where the elements are pulled from the normal probability distribution with zero mean and unit variance.\n",
    "2. Present the memory contents and the metadata (size, offset, stride) of the tensor.\n",
    "3. Transpose the tensor without copying in memory.\n",
    "4. Present the memory contents and the metadata (size, offset, stride) of the tensor.\n",
    "5. Test whether the tensor and its transpose are contiguous in memory."
   ]
  },
  {
   "cell_type": "code",
   "execution_count": 1,
   "metadata": {},
   "outputs": [],
   "source": [
    "import torch\n",
    "\n"
   ]
  }
 ],
 "metadata": {
  "kernelspec": {
   "display_name": "Python 3",
   "language": "python",
   "name": "python3"
  },
  "language_info": {
   "codemirror_mode": {
    "name": "ipython",
    "version": 3
   },
   "file_extension": ".py",
   "mimetype": "text/x-python",
   "name": "python",
   "nbconvert_exporter": "python",
   "pygments_lexer": "ipython3",
   "version": "3.12.1"
  }
 },
 "nbformat": 4,
 "nbformat_minor": 2
}
