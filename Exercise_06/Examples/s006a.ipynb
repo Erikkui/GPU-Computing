{
 "cells": [
  {
   "cell_type": "markdown",
   "metadata": {},
   "source": [
    "### Execution profiling 1\n",
    "PyTorch offers a comprehensive selection of mathematical operators on tensors. These operations can be executed on a CPU or a GPU, and many of the operations are much faster on a GPU.\n",
    "\n",
    "Experiment with PyTorch tensor operations as follows:\n",
    "\n",
    "1. Prepare startup code for allowing both CPU and GPU execution.\n",
    "2. Create a reasonably large 2D tensor of random numbers to the main memory (CPU) and another one of the same size to the GPU memory.\n",
    "3. Perform eigenvalue decomposition of the tensors and compare the execution times of both cases so that the measurement is performed properly.\n",
    "\n",
    "Hints: torch.linalg, torch.cuda.Event, torch.cuda.synchronize."
   ]
  },
  {
   "cell_type": "code",
   "execution_count": 1,
   "metadata": {},
   "outputs": [],
   "source": [
    "import torch\n",
    "import time"
   ]
  },
  {
   "cell_type": "markdown",
   "metadata": {},
   "source": [
    "Determine the device for tensor processing"
   ]
  },
  {
   "cell_type": "code",
   "execution_count": 2,
   "metadata": {},
   "outputs": [
    {
     "name": "stdout",
     "output_type": "stream",
     "text": [
      "GPU available\n"
     ]
    }
   ],
   "source": [
    "cpu = torch.device('cpu')\n",
    "if torch.cuda.is_available():\n",
    "    print(\"GPU available\")\n",
    "    gpu = torch.device('cuda')\n",
    "else:\n",
    "    print(\"GPU not available\")\n",
    "    gpu = None"
   ]
  },
  {
   "cell_type": "markdown",
   "metadata": {},
   "source": [
    "Create a CPU tensor with elements sampled from the normal distribution"
   ]
  },
  {
   "cell_type": "code",
   "execution_count": 3,
   "metadata": {},
   "outputs": [
    {
     "data": {
      "text/plain": [
       "(device(type='cpu'), torch.Size([5000, 5000]), 100000000)"
      ]
     },
     "execution_count": 3,
     "metadata": {},
     "output_type": "execute_result"
    }
   ],
   "source": [
    "n = 5000\n",
    "Acpu = torch.rand((n, n), device=cpu)\n",
    "(Acpu.device, Acpu.shape, Acpu.element_size() * Acpu.nelement())"
   ]
  },
  {
   "cell_type": "markdown",
   "metadata": {},
   "source": [
    "Create a GPU tensor with elements sampled from the normal distribution"
   ]
  },
  {
   "cell_type": "code",
   "execution_count": 4,
   "metadata": {},
   "outputs": [
    {
     "data": {
      "text/plain": [
       "(device(type='cuda', index=0), torch.Size([5000, 5000]), 100000000)"
      ]
     },
     "execution_count": 4,
     "metadata": {},
     "output_type": "execute_result"
    }
   ],
   "source": [
    "Agpu = torch.rand((n, n), device=gpu)\n",
    "(Agpu.device, Agpu.shape, Agpu.element_size() * Agpu.nelement())"
   ]
  },
  {
   "cell_type": "markdown",
   "metadata": {},
   "source": [
    "Perform the eigenvalue decomposition on the CPU and time it"
   ]
  },
  {
   "cell_type": "code",
   "execution_count": 5,
   "metadata": {},
   "outputs": [
    {
     "name": "stdout",
     "output_type": "stream",
     "text": [
      "Eigenvalue decompostion on CPU: 19.98369789123535 s\n"
     ]
    }
   ],
   "source": [
    "t_start = time.time()\n",
    "\n",
    "L, V = torch.linalg.eig(Acpu)\n",
    "\n",
    "t_end = time.time()\n",
    "et_cpu = t_end - t_start\n",
    "print(f\"Eigenvalue decompostion on CPU: {et_cpu} s\")"
   ]
  },
  {
   "cell_type": "markdown",
   "metadata": {},
   "source": [
    "Perform the eigenvalue decomposition on the GPU. Warm up first and then time the operation by waiting till the end through synchronisation."
   ]
  },
  {
   "cell_type": "code",
   "execution_count": 6,
   "metadata": {},
   "outputs": [
    {
     "name": "stdout",
     "output_type": "stream",
     "text": [
      "Eigenvalue decompostion on GPU: 10.2351982421875 s\n"
     ]
    }
   ],
   "source": [
    "L, V = torch.linalg.eig(Agpu)\n",
    "\n",
    "start_event = torch.cuda.Event(enable_timing=True)\n",
    "end_event = torch.cuda.Event(enable_timing=True)\n",
    "start_event.record()\n",
    "\n",
    "L, V = torch.linalg.eig(Agpu)\n",
    "\n",
    "end_event.record()\n",
    "torch.cuda.synchronize()\n",
    "\n",
    "et_gpu = start_event.elapsed_time(end_event) / 1000.\n",
    "print(f\"Eigenvalue decompostion on GPU: {et_gpu} s\")"
   ]
  },
  {
   "cell_type": "code",
   "execution_count": null,
   "metadata": {},
   "outputs": [],
   "source": []
  }
 ],
 "metadata": {
  "kernelspec": {
   "display_name": "Python 3",
   "language": "python",
   "name": "python3"
  },
  "language_info": {
   "codemirror_mode": {
    "name": "ipython",
    "version": 3
   },
   "file_extension": ".py",
   "mimetype": "text/x-python",
   "name": "python",
   "nbconvert_exporter": "python",
   "pygments_lexer": "ipython3",
   "version": "3.12.1"
  }
 },
 "nbformat": 4,
 "nbformat_minor": 2
}
