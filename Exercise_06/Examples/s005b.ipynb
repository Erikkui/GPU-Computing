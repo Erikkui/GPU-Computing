{
 "cells": [
  {
   "cell_type": "markdown",
   "metadata": {},
   "source": [
    "### Machine learning: Neural network 1\n",
    "A neural network (NN) is a machine learning model consisting of layers of neurons and nonlinearities in the form of activation functions. In the simplest form, only a single hidden layer is used in addition to the input and output layers. These models are typically trained in the supervised manner so that the desired outputs are known the each input. The training adjusts iteratively the model parameters, that is, the neuron weights and biases, and the model architecture and the training process are affected by hyperparameters.\n",
    "\n",
    "Implement a NN with PyTorch. Take into account the following:\n",
    "\n",
    "* Define the loss function according to the task.\n",
    "* Use automatic differentiation (autograd) in the training loop.\n",
    "* Select the hyperparameters so that the model is as simple as possible for solving the task (Ockham's razor) and the training converges well.\n",
    "* Train the model with the given data and demonstrate that it works.\n",
    "\n",
    "Hints: autograd, nn."
   ]
  },
  {
   "cell_type": "code",
   "execution_count": 1,
   "metadata": {},
   "outputs": [],
   "source": [
    "# Based on Stevens et al. Deep learning with PyTorch, Manning Publications Co, 2020\n",
    "\n",
    "import numpy as np\n",
    "import torch"
   ]
  },
  {
   "cell_type": "markdown",
   "metadata": {},
   "source": [
    "Load the CSV data to a NumPy array"
   ]
  },
  {
   "cell_type": "code",
   "execution_count": 2,
   "metadata": {},
   "outputs": [
    {
     "data": {
      "text/plain": [
       "(20, 2)"
      ]
     },
     "execution_count": 2,
     "metadata": {},
     "output_type": "execute_result"
    }
   ],
   "source": [
    "datafile = \"t005b.csv\"\n",
    "data_np = np.loadtxt(datafile, dtype=np.float32, delimiter=\",\")\n",
    "data_np.shape"
   ]
  },
  {
   "cell_type": "markdown",
   "metadata": {},
   "source": [
    "Plot the data"
   ]
  },
  {
   "cell_type": "code",
   "execution_count": 3,
   "metadata": {},
   "outputs": [
    {
     "data": {
      "text/plain": [
       "[<matplotlib.lines.Line2D at 0x26a0ab56750>]"
      ]
     },
     "execution_count": 3,
     "metadata": {},
     "output_type": "execute_result"
    },
    {
     "data": {
      "image/png": "[encoded data removed]",
      "text/plain": [
       "<Figure size 614.4x460.8 with 1 Axes>"
      ]
     },
     "metadata": {},
     "output_type": "display_data"
    }
   ],
   "source": [
    "from matplotlib import pyplot as plt\n",
    "\n",
    "fig = plt.figure(dpi=96)\n",
    "plt.xlabel(\"x\")\n",
    "plt.ylabel(\"y\")\n",
    "plt.plot(data_np[:, 0], data_np[:, 1], '.')"
   ]
  },
  {
   "cell_type": "markdown",
   "metadata": {},
   "source": [
    "Create tensors from the NumPy array"
   ]
  },
  {
   "cell_type": "code",
   "execution_count": 4,
   "metadata": {},
   "outputs": [
    {
     "data": {
      "text/plain": [
       "(torch.Size([20, 1]), tensor([-0.8049]), tensor([0.9412]), torch.Size([20, 1]))"
      ]
     },
     "execution_count": 4,
     "metadata": {},
     "output_type": "execute_result"
    }
   ],
   "source": [
    "x = torch.from_numpy(data_np[:, 0]).unsqueeze(1)\n",
    "y = torch.from_numpy(data_np[:, 1]).unsqueeze(1)\n",
    "x_min = torch.min(x, 0).values\n",
    "x_max = torch.max(x, 0).values\n",
    "x.shape, x_min, x_max, y.shape"
   ]
  },
  {
   "cell_type": "markdown",
   "metadata": {},
   "source": [
    "Determine the indices of samples for the training and validation subsets"
   ]
  },
  {
   "cell_type": "code",
   "execution_count": 6,
   "metadata": {},
   "outputs": [
    {
     "data": {
      "text/plain": [
       "(tensor([ 4,  5, 13, 19,  7, 14,  3,  6,  9, 17, 11,  2, 16, 18, 10, 12]),\n",
       " tensor([15,  8,  1,  0]))"
      ]
     },
     "execution_count": 6,
     "metadata": {},
     "output_type": "execute_result"
    }
   ],
   "source": [
    "n_samples = x.shape[0]\n",
    "n_val = int(0.2 * n_samples)\n",
    "\n",
    "torch.manual_seed(0)\n",
    "shuffled_ind = torch.randperm(n_samples)\n",
    "\n",
    "train_ind = shuffled_ind[:-n_val]\n",
    "val_ind = shuffled_ind[-n_val:]\n",
    "\n",
    "train_ind, val_ind"
   ]
  },
  {
   "cell_type": "markdown",
   "metadata": {},
   "source": [
    "Divide the data into training and validation subsets"
   ]
  },
  {
   "cell_type": "code",
   "execution_count": 7,
   "metadata": {},
   "outputs": [
    {
     "data": {
      "text/plain": [
       "(torch.Size([16, 1]), torch.Size([4, 1]))"
      ]
     },
     "execution_count": 7,
     "metadata": {},
     "output_type": "execute_result"
    }
   ],
   "source": [
    "x_train = x[train_ind]\n",
    "y_train = y[train_ind]\n",
    "\n",
    "x_val = x[val_ind]\n",
    "y_val = y[val_ind]\n",
    "\n",
    "x_train.shape, x_val.shape"
   ]
  },
  {
   "cell_type": "markdown",
   "metadata": {},
   "source": [
    "Prepare a simple neural network architecture for the regression. (Using named layers with a dictionary is not compulsory, but can be helpful with complex architectures.)"
   ]
  },
  {
   "cell_type": "code",
   "execution_count": 8,
   "metadata": {},
   "outputs": [
    {
     "data": {
      "text/plain": [
       "Sequential(\n",
       "  (hidden_linear): Linear(in_features=1, out_features=2, bias=True)\n",
       "  (hidden_activation): Tanh()\n",
       "  (output_linear): Linear(in_features=2, out_features=1, bias=True)\n",
       ")"
      ]
     },
     "execution_count": 8,
     "metadata": {},
     "output_type": "execute_result"
    }
   ],
   "source": [
    "import torch.nn as nn\n",
    "from collections import OrderedDict\n",
    "\n",
    "seq_model = nn.Sequential(OrderedDict([\n",
    "    ('hidden_linear', nn.Linear(1, 2)),\n",
    "    ('hidden_activation', nn.Tanh()),\n",
    "    ('output_linear', nn.Linear(2, 1))\n",
    "]))\n",
    "seq_model"
   ]
  },
  {
   "cell_type": "markdown",
   "metadata": {},
   "source": [
    "Show the parameters of the model"
   ]
  },
  {
   "cell_type": "code",
   "execution_count": 9,
   "metadata": {},
   "outputs": [
    {
     "name": "stdout",
     "output_type": "stream",
     "text": [
      "hidden_linear.weight torch.Size([2, 1])\n",
      "hidden_linear.bias torch.Size([2])\n",
      "output_linear.weight torch.Size([1, 2])\n",
      "output_linear.bias torch.Size([1])\n"
     ]
    }
   ],
   "source": [
    "for name, param in seq_model.named_parameters():\n",
    "    print(name, param.shape)"
   ]
  },
  {
   "cell_type": "markdown",
   "metadata": {},
   "source": [
    "Define the training loop for the model using the training and validation data as well as automatic differentiation."
   ]
  },
  {
   "cell_type": "code",
   "execution_count": 10,
   "metadata": {},
   "outputs": [],
   "source": [
    "def training_loop(n_epochs, optimiser, model, loss_fn, x_train, x_val,\n",
    "                  y_train, y_val):\n",
    "    for epoch in range(1, n_epochs + 1):\n",
    "        yPred_train = model(x_train)\n",
    "        loss_train = loss_fn(yPred_train, y_train)\n",
    "\n",
    "        yPred_val = model(x_val)\n",
    "        loss_val = loss_fn(yPred_val, y_val)\n",
    "        \n",
    "        optimiser.zero_grad()\n",
    "        loss_train.backward()\n",
    "        optimiser.step()\n",
    "\n",
    "        if epoch == 1 or epoch % (n_epochs / 10) == 0:\n",
    "            print(f\"Epoch {epoch}, Training loss {loss_train.item():.4f},\"\n",
    "                  f\" Validation loss {loss_val.item():.4f}\")\n"
   ]
  },
  {
   "cell_type": "markdown",
   "metadata": {},
   "source": [
    "Call the training loop using stochastic gradient descent as the optimiser and mean-squared error provided by the nn module as the loss function."
   ]
  },
  {
   "cell_type": "code",
   "execution_count": 11,
   "metadata": {},
   "outputs": [
    {
     "name": "stdout",
     "output_type": "stream",
     "text": [
      "Epoch 1, Training loss 0.1066, Validation loss 0.0322\n",
      "Epoch 1000, Training loss 0.0129, Validation loss 0.0065\n",
      "Epoch 2000, Training loss 0.0125, Validation loss 0.0069\n",
      "Epoch 3000, Training loss 0.0122, Validation loss 0.0070\n",
      "Epoch 4000, Training loss 0.0120, Validation loss 0.0070\n",
      "Epoch 5000, Training loss 0.0118, Validation loss 0.0071\n",
      "Epoch 6000, Training loss 0.0116, Validation loss 0.0071\n",
      "Epoch 7000, Training loss 0.0115, Validation loss 0.0072\n",
      "Epoch 8000, Training loss 0.0114, Validation loss 0.0072\n",
      "Epoch 9000, Training loss 0.0113, Validation loss 0.0072\n",
      "Epoch 10000, Training loss 0.0112, Validation loss 0.0072\n"
     ]
    }
   ],
   "source": [
    "import torch.optim as optim\n",
    "\n",
    "optimiser = optim.SGD(seq_model.parameters(), lr=1e-1)\n",
    "\n",
    "training_loop(\n",
    "    n_epochs = 10000, \n",
    "    optimiser = optimiser,\n",
    "    model = seq_model,\n",
    "    loss_fn = nn.MSELoss(),\n",
    "    x_train = x_train,\n",
    "    x_val = x_val, \n",
    "    y_train = y_train,\n",
    "    y_val = y_val)"
   ]
  },
  {
   "cell_type": "markdown",
   "metadata": {},
   "source": [
    "Plot the data and the resulting model"
   ]
  },
  {
   "cell_type": "code",
   "execution_count": 12,
   "metadata": {},
   "outputs": [
    {
     "data": {
      "text/plain": [
       "[<matplotlib.lines.Line2D at 0x26a16028e60>]"
      ]
     },
     "execution_count": 12,
     "metadata": {},
     "output_type": "execute_result"
    },
    {
     "data": {
      "image/png": "[encoded data removed]",
      "text/plain": [
       "<Figure size 614.4x460.8 with 1 Axes>"
      ]
     },
     "metadata": {},
     "output_type": "display_data"
    }
   ],
   "source": [
    "fig = plt.figure(dpi=96)\n",
    "plt.xlabel(\"x\")\n",
    "plt.ylabel(\"y\")\n",
    "plt.plot(x_train.numpy(), y_train.numpy(), 'o')\n",
    "plt.plot(x_val.numpy(), y_val.numpy(), 'o')\n",
    "plt.plot(x_val.numpy(), seq_model(x_val).detach().numpy(), 'k.')\n",
    "x_range = torch.arange(x_min.item() , x_max.item(), (x_max.item()-x_min.item())/100).unsqueeze(1)\n",
    "plt.plot(x_range.numpy(), seq_model(x_range).detach().numpy(), '-')"
   ]
  },
  {
   "cell_type": "code",
   "execution_count": 13,
   "metadata": {},
   "outputs": [
    {
     "data": {
      "text/plain": [
       "Sequential(\n",
       "  (hidden_linear): Linear(in_features=1, out_features=2, bias=True)\n",
       "  (hidden_activation): Tanh()\n",
       "  (output_linear): Linear(in_features=2, out_features=1, bias=True)\n",
       ")"
      ]
     },
     "execution_count": 13,
     "metadata": {},
     "output_type": "execute_result"
    }
   ],
   "source": [
    "seq_model."
   ]
  }
 ],
 "metadata": {
  "kernelspec": {
   "display_name": "Python 3",
   "language": "python",
   "name": "python3"
  },
  "language_info": {
   "codemirror_mode": {
    "name": "ipython",
    "version": 3
   },
   "file_extension": ".py",
   "mimetype": "text/x-python",
   "name": "python",
   "nbconvert_exporter": "python",
   "pygments_lexer": "ipython3",
   "version": "3.12.1"
  }
 },
 "nbformat": 4,
 "nbformat_minor": 2
}
