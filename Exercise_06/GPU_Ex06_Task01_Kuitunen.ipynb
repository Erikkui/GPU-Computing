{
 "cells": [
  {
   "cell_type": "markdown",
   "metadata": {},
   "source": [
    "# BM40A1401 GPU Computing\n",
    "\n",
    "## Erik Kuitunen\n",
    "\n",
    "### Exercise 5 Task 1\n",
    "\n",
    "PyTorch tensors can be created by constructors or using conversions from other types of arrays. They can be directly created on a desired device or copied from one device to another.\n",
    "\n",
    "Experiment with PyTorch tensors as follows:\n",
    "\n",
    "1. Prepare startup code for allowing CPU and GPU execution.\n",
    "2. Create one 3D tensor of size 128^3 to the main memory (CPU) and another to the GPU memory. The tensor elements should be double precision (64-bit) floating point numbers that are sampled from the normal probability distribution with zero mean and unit variance. Determine how much memory each tensors reserves.\n",
    "3. Perform matrix multiplication on the GPU with the tensors and serialise the result to storage.\n",
    "4. If possible, examine the memory utilisation on the GPU while varying the tensor sizes. Does the information reflect the true utilisation of memory?"
   ]
  },
  {
   "cell_type": "code",
   "execution_count": 1,
   "metadata": {},
   "outputs": [],
   "source": [
    "import torch\n",
    "\n"
   ]
  }
 ],
 "metadata": {
  "kernelspec": {
   "display_name": "Python 3",
   "language": "python",
   "name": "python3"
  },
  "language_info": {
   "codemirror_mode": {
    "name": "ipython",
    "version": 3
   },
   "file_extension": ".py",
   "mimetype": "text/x-python",
   "name": "python",
   "nbconvert_exporter": "python",
   "pygments_lexer": "ipython3",
   "version": "3.12.1"
  }
 },
 "nbformat": 4,
 "nbformat_minor": 2
}
